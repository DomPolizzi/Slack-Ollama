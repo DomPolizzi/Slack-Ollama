{
  "cells": [
    {
      "cell_type": "markdown",
      "metadata": {
        "id": "GZsIU7Qmwh5g"
      },
      "source": [
        "# Pre-Reqs"
      ]
    },
    {
      "cell_type": "code",
      "execution_count": null,
      "metadata": {
        "colab": {
          "base_uri": "https://localhost:8080/",
          "height": 1000
        },
        "id": "Tfc1Pht4wYvU",
        "outputId": "687b2ee8-5140-43ed-b355-262e433135df"
      },
      "outputs": [],
      "source": [
        "%pip install langchain_openai langchain langchain-community langchain_chroma langchain_cohere pinecone langgraph"
      ]
    },
    {
      "cell_type": "code",
      "execution_count": null,
      "metadata": {
        "id": "damju8M40WVb"
      },
      "outputs": [],
      "source": [
        "!pip install langfuse"
      ]
    },
    {
      "cell_type": "markdown",
      "metadata": {
        "id": "1_xNnOzpwjdj"
      },
      "source": [
        "# Graph"
      ]
    },
    {
      "cell_type": "markdown",
      "metadata": {
        "id": "oT8gkpyrw9tS"
      },
      "source": [
        "## vectordb"
      ]
    },
    {
      "cell_type": "code",
      "execution_count": null,
      "metadata": {},
      "outputs": [],
      "source": [
        "from chromadb.utils.embedding_functions import OllamaEmbeddingFunction\n",
        "\n",
        "class LangChainOllamaEmbeddings:\n",
        "    def __init__(self, model_name=\"nomic-embed-text\", url=\"http://localhost:11434/api/embeddings\"):\n",
        "        self.ef = OllamaEmbeddingFunction(model_name=model_name, url=url)\n",
        "    \n",
        "    def embed_documents(self, texts):\n",
        "        return self.ef(texts)\n",
        "    \n",
        "    def embed_query(self, text):\n",
        "        return self.ef([text])[0]"
      ]
    },
    {
      "cell_type": "code",
      "execution_count": 22,
      "metadata": {},
      "outputs": [],
      "source": [
        "import chromadb\n",
        "from chromadb.utils.embedding_functions import OllamaEmbeddingFunction\n",
        "from langchain_chroma import Chroma\n",
        "from chromadb.config import Settings\n",
        "\n",
        "\n",
        " \n",
        "ollama_embedding_function = OllamaEmbeddingFunction(\n",
        "    model_name=\"nomic-embed-text\",\n",
        "    url=\"http://localhost:11434/api/embeded\"\n",
        ")\n",
        "\n",
        "\n",
        "# ChromaDB client settings for REST API\n",
        "chroma_settings = Settings(\n",
        "    chroma_server_host=\"localhost\",\n",
        "    chroma_server_http_port=8000,\n",
        ")\n",
        "\n",
        "# Create Chroma vector store with Ollama embeddings\n",
        "vectorstore = Chroma(\n",
        "    collection_name=\"example_collection\",\n",
        "    embedding_function=ollama_embedding_function,\n",
        "    persist_directory=\"./chroma_langchain_db\",\n",
        "    client_settings=chroma_settings\n",
        ")"
      ]
    },
    {
      "cell_type": "code",
      "execution_count": 23,
      "metadata": {},
      "outputs": [
        {
          "ename": "AttributeError",
          "evalue": "'OllamaEmbeddingFunction' object has no attribute 'embed_documents'",
          "output_type": "error",
          "traceback": [
            "\u001b[31m---------------------------------------------------------------------------\u001b[39m",
            "\u001b[31mAttributeError\u001b[39m                            Traceback (most recent call last)",
            "\u001b[36mCell\u001b[39m\u001b[36m \u001b[39m\u001b[32mIn[23]\u001b[39m\u001b[32m, line 2\u001b[39m\n\u001b[32m      1\u001b[39m \u001b[38;5;66;03m# Example: Add a document\u001b[39;00m\n\u001b[32m----> \u001b[39m\u001b[32m2\u001b[39m \u001b[43mvectorstore\u001b[49m\u001b[43m.\u001b[49m\u001b[43madd_texts\u001b[49m\u001b[43m(\u001b[49m\u001b[43m[\u001b[49m\u001b[33;43m\"\u001b[39;49m\u001b[33;43mHello world!\u001b[39;49m\u001b[33;43m\"\u001b[39;49m\u001b[43m]\u001b[49m\u001b[43m,\u001b[49m\u001b[43m \u001b[49m\u001b[43mmetadatas\u001b[49m\u001b[43m=\u001b[49m\u001b[43m[\u001b[49m\u001b[43m{\u001b[49m\u001b[33;43m\"\u001b[39;49m\u001b[33;43msource\u001b[39;49m\u001b[33;43m\"\u001b[39;49m\u001b[43m:\u001b[49m\u001b[43m \u001b[49m\u001b[33;43m\"\u001b[39;49m\u001b[33;43mtest\u001b[39;49m\u001b[33;43m\"\u001b[39;49m\u001b[43m}\u001b[49m\u001b[43m]\u001b[49m\u001b[43m)\u001b[49m\n\u001b[32m      4\u001b[39m \u001b[38;5;66;03m# Example: Query similar documents\u001b[39;00m\n\u001b[32m      5\u001b[39m results = vectorstore.similarity_search(\u001b[33m\"\u001b[39m\u001b[33mHello\u001b[39m\u001b[33m\"\u001b[39m, k=\u001b[32m1\u001b[39m)\n",
            "\u001b[36mFile \u001b[39m\u001b[32m~/Code/llm-agent/.venv/lib/python3.13/site-packages/langchain_chroma/vectorstores.py:527\u001b[39m, in \u001b[36mChroma.add_texts\u001b[39m\u001b[34m(self, texts, metadatas, ids, **kwargs)\u001b[39m\n\u001b[32m    525\u001b[39m texts = \u001b[38;5;28mlist\u001b[39m(texts)\n\u001b[32m    526\u001b[39m \u001b[38;5;28;01mif\u001b[39;00m \u001b[38;5;28mself\u001b[39m._embedding_function \u001b[38;5;129;01mis\u001b[39;00m \u001b[38;5;129;01mnot\u001b[39;00m \u001b[38;5;28;01mNone\u001b[39;00m:\n\u001b[32m--> \u001b[39m\u001b[32m527\u001b[39m     embeddings = \u001b[38;5;28;43mself\u001b[39;49m\u001b[43m.\u001b[49m\u001b[43m_embedding_function\u001b[49m\u001b[43m.\u001b[49m\u001b[43membed_documents\u001b[49m(texts)\n\u001b[32m    528\u001b[39m \u001b[38;5;28;01mif\u001b[39;00m metadatas:\n\u001b[32m    529\u001b[39m     \u001b[38;5;66;03m# fill metadatas with empty dicts if somebody\u001b[39;00m\n\u001b[32m    530\u001b[39m     \u001b[38;5;66;03m# did not specify metadata for all texts\u001b[39;00m\n\u001b[32m    531\u001b[39m     length_diff = \u001b[38;5;28mlen\u001b[39m(texts) - \u001b[38;5;28mlen\u001b[39m(metadatas)\n",
            "\u001b[31mAttributeError\u001b[39m: 'OllamaEmbeddingFunction' object has no attribute 'embed_documents'"
          ]
        }
      ],
      "source": [
        "# Example: Add a document\n",
        "vectorstore.add_texts([\"Hello world!\"], metadatas=[{\"source\": \"test\"}])\n",
        "\n",
        "# Example: Query similar documents\n",
        "results = vectorstore.similarity_search(\"Hello\", k=1)\n",
        "print(results)"
      ]
    },
    {
      "cell_type": "markdown",
      "metadata": {
        "id": "7_NXgjAIxErW"
      },
      "source": [
        "### loading dummy data"
      ]
    },
    {
      "cell_type": "code",
      "execution_count": null,
      "metadata": {
        "colab": {
          "base_uri": "https://localhost:8080/"
        },
        "id": "KDcf41OlxFVB",
        "outputId": "1aa5f81c-a7ad-4e7f-cf5d-b123bf22ce98"
      },
      "outputs": [],
      "source": [
        "from uuid import uuid4\n",
        "\n",
        "from langchain_core.documents import Document\n",
        "\n",
        "document_1 = Document(\n",
        "    page_content=\"I had chocolate chip pancakes and scrambled eggs for breakfast this morning.\",\n",
        "    metadata={\"source\": \"tweet\"},\n",
        "    id=1,\n",
        ")\n",
        "\n",
        "document_2 = Document(\n",
        "    page_content=\"The weather forecast for tomorrow is cloudy and overcast, with a high of 62 degrees.\",\n",
        "    metadata={\"source\": \"news\"},\n",
        "    id=2,\n",
        ")\n",
        "\n",
        "document_3 = Document(\n",
        "    page_content=\"Building an exciting new project with LangChain - come check it out!\",\n",
        "    metadata={\"source\": \"tweet\"},\n",
        "    id=3,\n",
        ")\n",
        "\n",
        "document_4 = Document(\n",
        "    page_content=\"Robbers broke into the city bank and stole $1 million in cash.\",\n",
        "    metadata={\"source\": \"news\"},\n",
        "    id=4,\n",
        ")\n",
        "\n",
        "document_5 = Document(\n",
        "    page_content=\"Wow! That was an amazing movie. I can't wait to see it again.\",\n",
        "    metadata={\"source\": \"tweet\"},\n",
        "    id=5,\n",
        ")\n",
        "\n",
        "document_6 = Document(\n",
        "    page_content=\"Is the new iPhone worth the price? Read this review to find out.\",\n",
        "    metadata={\"source\": \"website\"},\n",
        "    id=6,\n",
        ")\n",
        "\n",
        "document_7 = Document(\n",
        "    page_content=\"The top 10 soccer players in the world right now.\",\n",
        "    metadata={\"source\": \"website\"},\n",
        "    id=7,\n",
        ")\n",
        "\n",
        "document_8 = Document(\n",
        "    page_content=\"LangGraph is the best framework for building stateful, agentic applications!\",\n",
        "    metadata={\"source\": \"tweet\"},\n",
        "    id=8,\n",
        ")\n",
        "\n",
        "document_9 = Document(\n",
        "    page_content=\"The stock market is down 500 points today due to fears of a recession.\",\n",
        "    metadata={\"source\": \"news\"},\n",
        "    id=9,\n",
        ")\n",
        "\n",
        "document_10 = Document(\n",
        "    page_content=\"I have a bad feeling I am going to get deleted :(\",\n",
        "    metadata={\"source\": \"tweet\"},\n",
        "    id=10,\n",
        ")\n",
        "\n",
        "documents = [\n",
        "    document_1,\n",
        "    document_2,\n",
        "    document_3,\n",
        "    document_4,\n",
        "    document_5,\n",
        "    document_6,\n",
        "    document_7,\n",
        "    document_8,\n",
        "    document_9,\n",
        "    document_10,\n",
        "]\n",
        "uuids = [str(uuid4()) for _ in range(len(documents))]\n",
        "\n",
        "vector_store.add_documents(documents=documents, ids=uuids)"
      ]
    },
    {
      "cell_type": "markdown",
      "metadata": {
        "id": "CjcWOh2dxkGm"
      },
      "source": [
        "## initialize"
      ]
    },
    {
      "cell_type": "code",
      "execution_count": null,
      "metadata": {
        "id": "2I3NsM1axeNk"
      },
      "outputs": [],
      "source": [
        "from langgraph.graph import END, StateGraph\n",
        "from langgraph.graph.message import MessagesState\n",
        "\n",
        "class GraphState(MessagesState):\n",
        "    question: str\n",
        "    documents: list[str] | None\n",
        "    generated: str\n",
        "\n",
        "\n",
        "workflow = StateGraph(GraphState)"
      ]
    },
    {
      "cell_type": "markdown",
      "metadata": {
        "id": "uWM_wC4rxk-Y"
      },
      "source": [
        "## retrieve node"
      ]
    },
    {
      "cell_type": "code",
      "execution_count": null,
      "metadata": {
        "id": "ex7YAh0Iz1vC"
      },
      "outputs": [],
      "source": [
        "from langchain_core.prompts import (\n",
        "    ChatPromptTemplate,\n",
        "    PromptTemplate,\n",
        "    format_document,\n",
        ")"
      ]
    },
    {
      "cell_type": "code",
      "execution_count": null,
      "metadata": {
        "id": "EoN3dZ6pz3_n"
      },
      "outputs": [],
      "source": [
        "blog_prompt = PromptTemplate.from_template(\n",
        "    \"{page_content}\\nSource: {source}\"\n",
        ")"
      ]
    },
    {
      "cell_type": "code",
      "execution_count": null,
      "metadata": {
        "id": "m0khImg5wj3z"
      },
      "outputs": [],
      "source": [
        "retriever = vector_store.as_retriever(\n",
        "    search_kwargs={\"k\": 5}\n",
        ")\n",
        "\n",
        "@workflow.add_node\n",
        "def retrieve(state: GraphState):\n",
        "  messages = state[\"messages\"]\n",
        "  question = messages[-1].content\n",
        "  docs = retriever.get_relevant_documents(question)\n",
        "  documents_list = []\n",
        "  for doc in docs:\n",
        "    content = format_document(doc,blog_prompt)\n",
        "    documents_list.append(content)\n",
        "  return {\"documents\":documents_list}"
      ]
    },
    {
      "cell_type": "markdown",
      "metadata": {
        "id": "QzK-dNIix27e"
      },
      "source": [
        "## generate node"
      ]
    },
    {
      "cell_type": "code",
      "execution_count": null,
      "metadata": {
        "id": "dJRjOJ4_yIb0"
      },
      "outputs": [],
      "source": [
        "from langchain_core.prompts import (\n",
        "    ChatPromptTemplate,\n",
        "    PromptTemplate,\n",
        "    format_document,\n",
        ")\n",
        "from langchain_core.prompts import MessagesPlaceholder\n",
        "\n",
        "INSTRUCTIONS_TEMPLATE = \"\"\"You are a helpful and thoughtful HR AI assistant employed by OffSec tasked with answering user questions related to Offsec HR.\n",
        "\n",
        "Anything between the following `context` html blocks is retrieved from a OffSec knowledge bank, not part of the conversation with the user. \\\n",
        "<context>\n",
        "{context}\n",
        "<context/>\n",
        "\n",
        "Remember: Only answer from the context above, providing the url when a source is used. If you cannot find an answer, politely tell the user you don't know the answer. \"\"\"\n",
        "\n",
        "\n",
        "ANSWER_PROMPT = ChatPromptTemplate.from_messages(\n",
        "    [\n",
        "        (\"system\", INSTRUCTIONS_TEMPLATE),\n",
        "        MessagesPlaceholder(variable_name=\"chat_history\"),\n",
        "    ]\n",
        ")\n"
      ]
    },
    {
      "cell_type": "code",
      "execution_count": null,
      "metadata": {
        "id": "vy9mfwiS1Ltx"
      },
      "outputs": [],
      "source": [
        "from langchain_openai import ChatOpenAI\n",
        "\n",
        "base_llm = ChatOpenAI(model=\"gpt-4o-mini\", temperature=0)"
      ]
    },
    {
      "cell_type": "code",
      "execution_count": null,
      "metadata": {
        "id": "F_VfMt3vxjj6"
      },
      "outputs": [],
      "source": [
        "from langchain_core.output_parsers import StrOutputParser\n",
        "from langchain_core.messages import AIMessage, HumanMessage\n",
        "\n",
        "@workflow.add_node\n",
        "def generate_response(state: GraphState):\n",
        "    \"\"\"\n",
        "    Generate response\n",
        "\n",
        "    Args:\n",
        "        state (dict): The current graph state\n",
        "\n",
        "    Returns:\n",
        "        state (dict): New key added to state, generation, that contains LLM generation\n",
        "    \"\"\"\n",
        "    documents = state[\"documents\"]\n",
        "    chat_history = state[\"messages\"]\n",
        "\n",
        "\n",
        "    rag_chain = (\n",
        "        ANSWER_PROMPT\n",
        "        | base_llm\n",
        "        | StrOutputParser()\n",
        "    ).with_config(run_name=\"generated_response\")\n",
        "    response = rag_chain.invoke(\n",
        "        {\n",
        "            \"context\": \"\\n\\n\".join(documents),\n",
        "            \"chat_history\": chat_history,\n",
        "        }\n",
        "    )\n",
        "\n",
        "    return {\"messages\": [AIMessage(content=response)]}"
      ]
    },
    {
      "cell_type": "markdown",
      "metadata": {
        "id": "aKOYUSsCykPq"
      },
      "source": [
        "## compiling"
      ]
    },
    {
      "cell_type": "code",
      "execution_count": null,
      "metadata": {
        "colab": {
          "base_uri": "https://localhost:8080/"
        },
        "id": "p83uvHNGyk5E",
        "outputId": "10496bd8-bf77-4756-f567-f44b20b86381"
      },
      "outputs": [],
      "source": [
        "workflow.set_entry_point(\"retrieve\")\n",
        "workflow.add_edge(\"retrieve\",\"generate_response\")\n",
        "workflow.add_edge(\"generate_response\",END)"
      ]
    },
    {
      "cell_type": "code",
      "execution_count": null,
      "metadata": {
        "id": "G9N9x32Dytsa"
      },
      "outputs": [],
      "source": [
        "from langgraph.checkpoint.memory import MemorySaver\n",
        "memory = MemorySaver()\n",
        "graph = workflow.compile(checkpointer=memory)"
      ]
    },
    {
      "cell_type": "markdown",
      "metadata": {
        "id": "UroHns-zzAxE"
      },
      "source": [
        "# Testing"
      ]
    },
    {
      "cell_type": "code",
      "execution_count": null,
      "metadata": {
        "id": "NmlxKZWhzBPu"
      },
      "outputs": [],
      "source": [
        "from langchain_core.messages import AIMessage, HumanMessage\n",
        "\n",
        "inputs = {\"messages\":[HumanMessage(content=\"Howdy sir!\")]}"
      ]
    },
    {
      "cell_type": "code",
      "execution_count": null,
      "metadata": {
        "id": "hGviOA3rzSno"
      },
      "outputs": [],
      "source": [
        "from langfuse.callback import CallbackHandler\n",
        "\n",
        "langfuse_handler = CallbackHandler(\n",
        "  secret_key=\"sk-lf-b9f1e3a9-2a8b-4c07-9faa-2630da389829\",\n",
        "  public_key=\"pk-lf-fe18fc16-819c-4423-a8c7-586fcbddecc5\",\n",
        "  host=\"https://langfuse.offsec.com\"\n",
        ")\n"
      ]
    },
    {
      "cell_type": "code",
      "execution_count": null,
      "metadata": {
        "id": "fRlVGDu1zZjx"
      },
      "outputs": [],
      "source": [
        "config = {\n",
        "        \"configurable\": {\n",
        "            \"thread_id\": \"75755\",\n",
        "            \"tags\": [\"pops-dev\"],\n",
        "        },\n",
        "        \"callbacks\": [langfuse_handler],\n",
        "    }"
      ]
    },
    {
      "cell_type": "code",
      "execution_count": null,
      "metadata": {
        "colab": {
          "base_uri": "https://localhost:8080/"
        },
        "id": "1Ig76lXgzIW_",
        "outputId": "ea4a728c-6c47-48e4-9074-7a4ba8577b02"
      },
      "outputs": [],
      "source": [
        "graph.invoke(input=inputs,config=config)"
      ]
    }
  ],
  "metadata": {
    "colab": {
      "provenance": []
    },
    "kernelspec": {
      "display_name": ".venv",
      "language": "python",
      "name": "python3"
    },
    "language_info": {
      "codemirror_mode": {
        "name": "ipython",
        "version": 3
      },
      "file_extension": ".py",
      "mimetype": "text/x-python",
      "name": "python",
      "nbconvert_exporter": "python",
      "pygments_lexer": "ipython3",
      "version": "3.13.3"
    }
  },
  "nbformat": 4,
  "nbformat_minor": 0
}
